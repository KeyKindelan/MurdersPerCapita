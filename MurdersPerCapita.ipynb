{
 "cells": [
  {
   "cell_type": "code",
   "execution_count": 2,
   "id": "945f12e0-eb0e-4d3f-8589-4e72e97b3f48",
   "metadata": {},
   "outputs": [],
   "source": [
    "chicagoMurders, chicagoPopulation, losAngelesMurders, losAngelesPopulation, newYorkCityMurders, newYorkCityPopulation, sanJoseCAMurders, sanJosePopulation = 762, 2_705_000, 294, 3_976_000, 334, 8_538_000, 47, 1_025_000"
   ]
  },
  {
   "cell_type": "code",
   "execution_count": 8,
   "id": "91c6eef1-294f-4701-81e1-abe6a1d89f14",
   "metadata": {},
   "outputs": [
    {
     "name": "stdout",
     "output_type": "stream",
     "text": [
      "8538000\n"
     ]
    }
   ],
   "source": [
    "# testing a variable\n",
    "print(newYorkCityPopulation)"
   ]
  },
  {
   "cell_type": "code",
   "execution_count": 71,
   "id": "480917af-0a7a-42d9-9ddd-526d88974d8b",
   "metadata": {},
   "outputs": [],
   "source": [
    "chicagoMurdersPerCapita = round(((chicagoMurders / chicagoPopulation) * 100_000),2)\n",
    "losAngelesMurdersPerCapita = round(((losAngelesMurders / losAngelesPopulation) * 100_000), 2)\n",
    "newYorkCityMurdersPerCapita = round(((newYorkCityMurders / newYorkCityPopulation) * 100_000), 2)\n",
    "sanJoseCAMurdersPerCapita = round(((sanJoseCAMurders / sanJosePopulation) * 100_000), 2) "
   ]
  },
  {
   "cell_type": "code",
   "execution_count": 73,
   "id": "ff070148-933a-4752-9a99-42c41ec3b04f",
   "metadata": {},
   "outputs": [
    {
     "name": "stdout",
     "output_type": "stream",
     "text": [
      "28.17\n"
     ]
    }
   ],
   "source": [
    "#testing a variable \n",
    "print(chicagoMurdersPerCapita)"
   ]
  },
  {
   "cell_type": "code",
   "execution_count": 75,
   "id": "18560e68-19af-4224-8a62-2a0d880c9229",
   "metadata": {},
   "outputs": [
    {
     "name": "stdout",
     "output_type": "stream",
     "text": [
      "3.91\n"
     ]
    }
   ],
   "source": [
    "print (min (chicagoMurdersPerCapita, losAngelesMurdersPerCapita, newYorkCityMurdersPerCapita, sanJoseCAMurdersPerCapita))"
   ]
  },
  {
   "cell_type": "code",
   "execution_count": 77,
   "id": "aed7e752-fd32-4a07-b718-83f8fdabb5b2",
   "metadata": {},
   "outputs": [
    {
     "name": "stdout",
     "output_type": "stream",
     "text": [
      "28.17 7.39 3.91 4.59\n"
     ]
    }
   ],
   "source": [
    "print(chicagoMurdersPerCapita, losAngelesMurdersPerCapita, newYorkCityMurdersPerCapita, sanJoseCAMurdersPerCapita)"
   ]
  },
  {
   "cell_type": "code",
   "execution_count": 81,
   "id": "c0bac1b4-e0cc-46d2-95fd-26a5ddd5c96c",
   "metadata": {},
   "outputs": [
    {
     "name": "stdout",
     "output_type": "stream",
     "text": [
      "New York City has the lowest murder rate at 3.91 per 100K, while Chicago has the highest murder rate at 28.17.\n"
     ]
    }
   ],
   "source": [
    "print(f\"New York City has the lowest murder rate at {newYorkCityMurdersPerCapita} per 100K, while Chicago has the highest murder rate at {chicagoMurdersPerCapita}.\")"
   ]
  },
  {
   "cell_type": "code",
   "execution_count": null,
   "id": "044396ce-2fb1-4e04-b2fb-1efc68e74338",
   "metadata": {},
   "outputs": [],
   "source": []
  }
 ],
 "metadata": {
  "kernelspec": {
   "display_name": "Python [conda env:base] *",
   "language": "python",
   "name": "conda-base-py"
  },
  "language_info": {
   "codemirror_mode": {
    "name": "ipython",
    "version": 3
   },
   "file_extension": ".py",
   "mimetype": "text/x-python",
   "name": "python",
   "nbconvert_exporter": "python",
   "pygments_lexer": "ipython3",
   "version": "3.12.7"
  }
 },
 "nbformat": 4,
 "nbformat_minor": 5
}
